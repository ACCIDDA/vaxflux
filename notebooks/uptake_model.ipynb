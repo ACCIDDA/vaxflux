{
 "cells": [
  {
   "cell_type": "code",
   "execution_count": 1,
   "metadata": {},
   "outputs": [
    {
     "name": "stderr",
     "output_type": "stream",
     "text": [
      "WARNING (pytensor.tensor.blas): Using NumPy C-API based implementation for BLAS functions.\n"
     ]
    }
   ],
   "source": [
    "# Add graphviz to path\n",
    "import os\n",
    "\n",
    "os.environ[\"PATH\"] = os.environ[\"PATH\"] + \":/opt/homebrew/bin\"\n",
    "\n",
    "# Imports\n",
    "from vaxflux.curves import LogisticIncidenceCurve\n",
    "from vaxflux.uptake import DateRange, PooledCovariate, SeasonRange, SeasonalUptakeModel"
   ]
  },
  {
   "cell_type": "code",
   "execution_count": 2,
   "metadata": {},
   "outputs": [
    {
     "data": {
      "text/plain": [
       "<vaxflux.curves.LogisticIncidenceCurve at 0x3208d2110>"
      ]
     },
     "execution_count": 2,
     "metadata": {},
     "output_type": "execute_result"
    }
   ],
   "source": [
    "logistic_curve = LogisticIncidenceCurve()\n",
    "logistic_curve"
   ]
  },
  {
   "cell_type": "code",
   "execution_count": 3,
   "metadata": {},
   "outputs": [
    {
     "data": {
      "text/plain": [
       "('m', 'r', 's')"
      ]
     },
     "execution_count": 3,
     "metadata": {},
     "output_type": "execute_result"
    }
   ],
   "source": [
    "logistic_curve.parameters"
   ]
  },
  {
   "cell_type": "code",
   "execution_count": 4,
   "metadata": {},
   "outputs": [],
   "source": [
    "model = SeasonalUptakeModel(\n",
    "    logistic_curve,\n",
    "    [\n",
    "        PooledCovariate(\n",
    "            parameter=\"m\",\n",
    "            covariate=None,\n",
    "            distribution=\"Normal\",\n",
    "            distribution_kwargs={\"mean\": 0.5, \"sd\": 0.1},\n",
    "        )\n",
    "    ],\n",
    "    season_ranges=[\n",
    "        SeasonRange(season=\"2022/2023\", start_date=\"2022-09-01\", end_date=\"2023-08-31\"),\n",
    "        SeasonRange(season=\"2023/2024\", start_date=\"2023-09-01\", end_date=\"2024-08-31\"),\n",
    "    ],\n",
    "    date_ranges=[\n",
    "        DateRange(\n",
    "            season=\"2022/2023\",\n",
    "            start_date=\"2022-09-01\",\n",
    "            end_date=\"2022-09-30\",\n",
    "            report_date=\"2022-10-01\",\n",
    "        ),\n",
    "    ],\n",
    "    name=\"Test Model\",\n",
    ")"
   ]
  },
  {
   "cell_type": "code",
   "execution_count": null,
   "metadata": {},
   "outputs": [],
   "source": []
  }
 ],
 "metadata": {
  "kernelspec": {
   "display_name": ".venv",
   "language": "python",
   "name": "python3"
  },
  "language_info": {
   "codemirror_mode": {
    "name": "ipython",
    "version": 3
   },
   "file_extension": ".py",
   "mimetype": "text/x-python",
   "name": "python",
   "nbconvert_exporter": "python",
   "pygments_lexer": "ipython3",
   "version": "3.11.9"
  }
 },
 "nbformat": 4,
 "nbformat_minor": 2
}
